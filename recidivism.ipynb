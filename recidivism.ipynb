{
 "cells": [
  {
   "cell_type": "markdown",
   "metadata": {},
   "source": [
    "# Debiasing Recidivism Predictions\n",
    "\n",
    "\n",
    "Department of Computer Science\n",
    "\n",
    "Stanford University\n",
    "\n",
    "Team: Jonathan Hollenbeck, Manish Pandit and Amita C. Patil\n",
    "\n",
    "(jonoh, manish7, amita2)@stanford.edu\n",
    "\n",
    "Project mentor: [to be assigned]"
   ]
  },
  {
   "cell_type": "markdown",
   "metadata": {},
   "source": [
    "## Overview\n",
    "\n",
    "Recidivism is one of the most fundamental concepts in criminal justice. It refers to a person's relapse into criminal behavior, often after the person receives sanctions or undergoes intervention for a previous crime.\n",
    "\n",
    "Across the nation, judges, probation and parole officers are increasingly using algorithms to assess a criminal defendant’s likelihood of becoming a recidivist. There are dozens of these risk assessment algorithms in use. Many states have built their own assessments, and several academics have written tools. There are also two leading nationwide tools offered by commercial vendors.\n",
    "\n",
    "We set out to assess one of the commercial tools made by Northpointe, Inc. to discover the underlying accuracy of their recidivism algorithm and to test whether the algorithm was biased against certain groups.\n",
    "\n",
    "Our goal is to detect any bias against certain groups exhibited the risk scores from Northpointe's algorithm named COMPAS.  We also investigate techniques and methods to reduce the bias while maintaining the accuracy of the predictions.\n",
    "\n",
    "We plan to utilize the AI Fairness 360 toolkit from IBM.  The AI Fairness 360 toolkit is an open-source library to help detect and remove bias in machine learning models. The AI Fairness 360 Python package includes a comprehensive set of metrics for datasets and models to test for biases, explanations for these metrics, and algorithms to mitigate bias in datasets and models."
   ]
  },
  {
   "cell_type": "markdown",
   "metadata": {},
   "source": [
    "## Dataset\n",
    "\n",
    "We leverage a dataset that contains more than 10,000 criminal defendants in Broward County, Florida. The dataset contains COMPAS software predicted recidivism rates along with the rate that actually occurred over a two-year period. When most defendants are booked in jail, they respond to a COMPAS questionnaire. Their answers are fed into the COMPAS software to generate several scores including predictions of “Risk of Recidivism” and “Risk of Violent Recidivism.”  We select fields for severity of charge, number of priors, demographics, age, sex, compas scores, and whether each person was accused of a crime within two years.\n"
   ]
  },
  {
   "cell_type": "markdown",
   "metadata": {},
   "source": [
    "## References\n",
    "1. Machine learning bias in risk assessment.\n",
    "https://www.propublica.org/article/machine-bias-risk-assessments-in-criminal-sentencing/\n",
    "2. propublica analysis of compas recidivism algorithm.\n",
    "https://www.propublica.org/article/how-we-analyzed-the-compas-recidivism-algorithm/\n",
    "3. The AI Fairness 360 toolkit is an open-source library to help detect and remove bias in machine learning models.\n",
    "https://github.com/IBM/AIF360\n",
    "4. Wikipedia \n",
    "https://en.wikipedia.org/wiki/Recidivism"
   ]
  },
  {
   "cell_type": "code",
   "execution_count": 1,
   "metadata": {},
   "outputs": [],
   "source": [
    "import pandas as pd\n",
    "import numpy as np\n",
    "import matplotlib.pyplot as plt"
   ]
  },
  {
   "cell_type": "markdown",
   "metadata": {},
   "source": [
    "We select fields for severity of charge, number of priors, demographics, age, sex, compas scores, and whether each person was accused of a crime within two years."
   ]
  },
  {
   "cell_type": "code",
   "execution_count": 2,
   "metadata": {},
   "outputs": [],
   "source": [
    "# datafiles\n",
    "compas_file = 'compas-scores-two-years.csv'\n",
    "#violent_file = 'compas-scores-two-years-violent.csv'"
   ]
  },
  {
   "cell_type": "code",
   "execution_count": 3,
   "metadata": {},
   "outputs": [],
   "source": [
    "compas_df = pd.read_csv(compas_file)"
   ]
  },
  {
   "cell_type": "markdown",
   "metadata": {},
   "source": [
    "There are a number of reasons to remove rows because of missing data:\n",
    "\n",
    "1. If the charge date of a defendants Compas scored crime was not within 30 days from when the person was arrested, we assume that because of data quality reasons, that we do not have the right offense.\n",
    "2. We coded the recidivist flag -- is_recid -- to be -1 if we could not find a compas case at all.\n",
    "3. In a similar vein, ordinary traffic offenses -- those with a c_charge_degree of 'O' -- will not result in Jail time are removed (only two of them).\n",
    "4. We filtered the underlying data from Broward county to include only those rows representing people who had either recidivated in two years, or had at least two years outside of a correctional facility."
   ]
  },
  {
   "cell_type": "code",
   "execution_count": 4,
   "metadata": {},
   "outputs": [],
   "source": [
    "compas_df = compas_df[np.isfinite(compas_df['days_b_screening_arrest'])]\n",
    "compas_df = compas_df[compas_df['days_b_screening_arrest'] >= -30.]\n",
    "compas_df = compas_df[compas_df['days_b_screening_arrest'] <= 30.]\n",
    "compas_df = compas_df[compas_df['is_recid'] != -1]\n",
    "compas_df = compas_df[compas_df['c_charge_degree'] != 'O']\n",
    "compas_df = compas_df[compas_df['score_text'] != 'N/A']\n",
    "jail_term = pd.to_datetime(compas_df['c_jail_out']) - pd.to_datetime(compas_df['c_jail_in'])\n",
    "jail_term = pd.to_timedelta(jail_term)\n",
    "compas_df['length_of_stay'] = jail_term.dt.days"
   ]
  },
  {
   "cell_type": "code",
   "execution_count": 5,
   "metadata": {},
   "outputs": [],
   "source": [
    "column_list = [\n",
    "    'sex', 'age', 'age_cat', 'race',\n",
    "    'c_charge_degree', 'length_of_stay',\n",
    "    'juv_fel_count', 'juv_misd_count', 'juv_other_count',\n",
    "    'days_b_screening_arrest', \n",
    "    'priors_count', 'decile_score', 'score_text',\n",
    "    'v_decile_score', 'v_score_text', 'is_recid', 'two_year_recid'\n",
    "]\n",
    "# not including c_charge_desc. One idea is to convert the text in this feature to\n",
    "# sentence vectors and run some clustering algorithm to get categories."
   ]
  },
  {
   "cell_type": "code",
   "execution_count": 6,
   "metadata": {},
   "outputs": [],
   "source": [
    "compas_df = compas_df[column_list]"
   ]
  },
  {
   "cell_type": "code",
   "execution_count": 7,
   "metadata": {},
   "outputs": [
    {
     "name": "stdout",
     "output_type": "stream",
     "text": [
      "<class 'pandas.core.frame.DataFrame'>\n",
      "Int64Index: 6172 entries, 0 to 7213\n",
      "Data columns (total 17 columns):\n",
      "sex                        6172 non-null object\n",
      "age                        6172 non-null int64\n",
      "age_cat                    6172 non-null object\n",
      "race                       6172 non-null object\n",
      "c_charge_degree            6172 non-null object\n",
      "length_of_stay             6172 non-null int64\n",
      "juv_fel_count              6172 non-null int64\n",
      "juv_misd_count             6172 non-null int64\n",
      "juv_other_count            6172 non-null int64\n",
      "days_b_screening_arrest    6172 non-null float64\n",
      "priors_count               6172 non-null int64\n",
      "decile_score               6172 non-null int64\n",
      "score_text                 6172 non-null object\n",
      "v_decile_score             6172 non-null int64\n",
      "v_score_text               6172 non-null object\n",
      "is_recid                   6172 non-null int64\n",
      "two_year_recid             6172 non-null int64\n",
      "dtypes: float64(1), int64(10), object(6)\n",
      "memory usage: 867.9+ KB\n"
     ]
    }
   ],
   "source": [
    "compas_df.info()"
   ]
  },
  {
   "cell_type": "code",
   "execution_count": 8,
   "metadata": {},
   "outputs": [
    {
     "data": {
      "text/html": [
       "<div>\n",
       "<style scoped>\n",
       "    .dataframe tbody tr th:only-of-type {\n",
       "        vertical-align: middle;\n",
       "    }\n",
       "\n",
       "    .dataframe tbody tr th {\n",
       "        vertical-align: top;\n",
       "    }\n",
       "\n",
       "    .dataframe thead th {\n",
       "        text-align: right;\n",
       "    }\n",
       "</style>\n",
       "<table border=\"1\" class=\"dataframe\">\n",
       "  <thead>\n",
       "    <tr style=\"text-align: right;\">\n",
       "      <th></th>\n",
       "      <th>sex</th>\n",
       "      <th>age</th>\n",
       "      <th>age_cat</th>\n",
       "      <th>race</th>\n",
       "      <th>c_charge_degree</th>\n",
       "      <th>length_of_stay</th>\n",
       "      <th>juv_fel_count</th>\n",
       "      <th>juv_misd_count</th>\n",
       "      <th>juv_other_count</th>\n",
       "      <th>days_b_screening_arrest</th>\n",
       "      <th>priors_count</th>\n",
       "      <th>decile_score</th>\n",
       "      <th>score_text</th>\n",
       "      <th>v_decile_score</th>\n",
       "      <th>v_score_text</th>\n",
       "      <th>is_recid</th>\n",
       "      <th>two_year_recid</th>\n",
       "    </tr>\n",
       "  </thead>\n",
       "  <tbody>\n",
       "    <tr>\n",
       "      <th>0</th>\n",
       "      <td>Male</td>\n",
       "      <td>69</td>\n",
       "      <td>Greater than 45</td>\n",
       "      <td>Other</td>\n",
       "      <td>F</td>\n",
       "      <td>0</td>\n",
       "      <td>0</td>\n",
       "      <td>0</td>\n",
       "      <td>0</td>\n",
       "      <td>-1.0</td>\n",
       "      <td>0</td>\n",
       "      <td>1</td>\n",
       "      <td>Low</td>\n",
       "      <td>1</td>\n",
       "      <td>Low</td>\n",
       "      <td>0</td>\n",
       "      <td>0</td>\n",
       "    </tr>\n",
       "    <tr>\n",
       "      <th>1</th>\n",
       "      <td>Male</td>\n",
       "      <td>34</td>\n",
       "      <td>25 - 45</td>\n",
       "      <td>African-American</td>\n",
       "      <td>F</td>\n",
       "      <td>10</td>\n",
       "      <td>0</td>\n",
       "      <td>0</td>\n",
       "      <td>0</td>\n",
       "      <td>-1.0</td>\n",
       "      <td>0</td>\n",
       "      <td>3</td>\n",
       "      <td>Low</td>\n",
       "      <td>1</td>\n",
       "      <td>Low</td>\n",
       "      <td>1</td>\n",
       "      <td>1</td>\n",
       "    </tr>\n",
       "    <tr>\n",
       "      <th>2</th>\n",
       "      <td>Male</td>\n",
       "      <td>24</td>\n",
       "      <td>Less than 25</td>\n",
       "      <td>African-American</td>\n",
       "      <td>F</td>\n",
       "      <td>1</td>\n",
       "      <td>0</td>\n",
       "      <td>0</td>\n",
       "      <td>1</td>\n",
       "      <td>-1.0</td>\n",
       "      <td>4</td>\n",
       "      <td>4</td>\n",
       "      <td>Low</td>\n",
       "      <td>3</td>\n",
       "      <td>Low</td>\n",
       "      <td>1</td>\n",
       "      <td>1</td>\n",
       "    </tr>\n",
       "    <tr>\n",
       "      <th>5</th>\n",
       "      <td>Male</td>\n",
       "      <td>44</td>\n",
       "      <td>25 - 45</td>\n",
       "      <td>Other</td>\n",
       "      <td>M</td>\n",
       "      <td>1</td>\n",
       "      <td>0</td>\n",
       "      <td>0</td>\n",
       "      <td>0</td>\n",
       "      <td>0.0</td>\n",
       "      <td>0</td>\n",
       "      <td>1</td>\n",
       "      <td>Low</td>\n",
       "      <td>1</td>\n",
       "      <td>Low</td>\n",
       "      <td>0</td>\n",
       "      <td>0</td>\n",
       "    </tr>\n",
       "    <tr>\n",
       "      <th>6</th>\n",
       "      <td>Male</td>\n",
       "      <td>41</td>\n",
       "      <td>25 - 45</td>\n",
       "      <td>Caucasian</td>\n",
       "      <td>F</td>\n",
       "      <td>6</td>\n",
       "      <td>0</td>\n",
       "      <td>0</td>\n",
       "      <td>0</td>\n",
       "      <td>-1.0</td>\n",
       "      <td>14</td>\n",
       "      <td>6</td>\n",
       "      <td>Medium</td>\n",
       "      <td>2</td>\n",
       "      <td>Low</td>\n",
       "      <td>1</td>\n",
       "      <td>1</td>\n",
       "    </tr>\n",
       "  </tbody>\n",
       "</table>\n",
       "</div>"
      ],
      "text/plain": [
       "    sex  age          age_cat              race c_charge_degree  \\\n",
       "0  Male   69  Greater than 45             Other               F   \n",
       "1  Male   34          25 - 45  African-American               F   \n",
       "2  Male   24     Less than 25  African-American               F   \n",
       "5  Male   44          25 - 45             Other               M   \n",
       "6  Male   41          25 - 45         Caucasian               F   \n",
       "\n",
       "   length_of_stay  juv_fel_count  juv_misd_count  juv_other_count  \\\n",
       "0               0              0               0                0   \n",
       "1              10              0               0                0   \n",
       "2               1              0               0                1   \n",
       "5               1              0               0                0   \n",
       "6               6              0               0                0   \n",
       "\n",
       "   days_b_screening_arrest  priors_count  decile_score score_text  \\\n",
       "0                     -1.0             0             1        Low   \n",
       "1                     -1.0             0             3        Low   \n",
       "2                     -1.0             4             4        Low   \n",
       "5                      0.0             0             1        Low   \n",
       "6                     -1.0            14             6     Medium   \n",
       "\n",
       "   v_decile_score v_score_text  is_recid  two_year_recid  \n",
       "0               1          Low         0               0  \n",
       "1               1          Low         1               1  \n",
       "2               3          Low         1               1  \n",
       "5               1          Low         0               0  \n",
       "6               2          Low         1               1  "
      ]
     },
     "execution_count": 8,
     "metadata": {},
     "output_type": "execute_result"
    }
   ],
   "source": [
    "compas_df.head()"
   ]
  },
  {
   "cell_type": "markdown",
   "metadata": {},
   "source": [
    "### Demographic breakdown"
   ]
  },
  {
   "cell_type": "code",
   "execution_count": 9,
   "metadata": {},
   "outputs": [
    {
     "data": {
      "text/plain": [
       "African-American    3175\n",
       "Caucasian           2103\n",
       "Hispanic             509\n",
       "Other                343\n",
       "Asian                 31\n",
       "Native American       11\n",
       "Name: race, dtype: int64"
      ]
     },
     "execution_count": 9,
     "metadata": {},
     "output_type": "execute_result"
    }
   ],
   "source": [
    "compas_df['race'].value_counts()"
   ]
  },
  {
   "cell_type": "code",
   "execution_count": 10,
   "metadata": {},
   "outputs": [
    {
     "name": "stdout",
     "output_type": "stream",
     "text": [
      "Black defendants: 51.44%\n",
      "White defendants: 34.07%\n",
      "Hispanic defendants: 8.25%\n",
      "Asian defendants: 0.50%\n",
      "Native American defendants: 0.18%\n"
     ]
    }
   ],
   "source": [
    "print(\"Black defendants: %.2f%%\" %            (3175 / 6172 * 100))\n",
    "print(\"White defendants: %.2f%%\" %            (2103 / 6172 * 100))\n",
    "print(\"Hispanic defendants: %.2f%%\" %         (509  / 6172 * 100))\n",
    "print(\"Asian defendants: %.2f%%\" %            (31   / 6172 * 100))\n",
    "print(\"Native American defendants: %.2f%%\" %  (11   / 6172 * 100))"
   ]
  },
  {
   "cell_type": "code",
   "execution_count": 11,
   "metadata": {},
   "outputs": [
    {
     "data": {
      "text/plain": [
       "Male      4997\n",
       "Female    1175\n",
       "Name: sex, dtype: int64"
      ]
     },
     "execution_count": 11,
     "metadata": {},
     "output_type": "execute_result"
    }
   ],
   "source": [
    "compas_df['sex'].value_counts()"
   ]
  },
  {
   "cell_type": "code",
   "execution_count": 12,
   "metadata": {},
   "outputs": [
    {
     "name": "stdout",
     "output_type": "stream",
     "text": [
      "Men: 80.96%\n",
      "Women: 19.04%\n"
     ]
    }
   ],
   "source": [
    "print(\"Men: %.2f%%\" %   (4997 / 6172 * 100))\n",
    "print(\"Women: %.2f%%\" % (1175 / 6172 * 100))"
   ]
  },
  {
   "cell_type": "code",
   "execution_count": 13,
   "metadata": {},
   "outputs": [
    {
     "data": {
      "text/plain": [
       "25 - 45            3532\n",
       "Less than 25       1347\n",
       "Greater than 45    1293\n",
       "Name: age_cat, dtype: int64"
      ]
     },
     "execution_count": 13,
     "metadata": {},
     "output_type": "execute_result"
    }
   ],
   "source": [
    "compas_df['age_cat'].value_counts()"
   ]
  },
  {
   "cell_type": "markdown",
   "metadata": {},
   "source": [
    "### Corelation between lenght of stay in jail and decile score.\n",
    "There is a positive corelation between length of stay and decile score, making it a useful feature for prediction."
   ]
  },
  {
   "cell_type": "code",
   "execution_count": 14,
   "metadata": {},
   "outputs": [
    {
     "data": {
      "text/html": [
       "<div>\n",
       "<style scoped>\n",
       "    .dataframe tbody tr th:only-of-type {\n",
       "        vertical-align: middle;\n",
       "    }\n",
       "\n",
       "    .dataframe tbody tr th {\n",
       "        vertical-align: top;\n",
       "    }\n",
       "\n",
       "    .dataframe thead th {\n",
       "        text-align: right;\n",
       "    }\n",
       "</style>\n",
       "<table border=\"1\" class=\"dataframe\">\n",
       "  <thead>\n",
       "    <tr style=\"text-align: right;\">\n",
       "      <th></th>\n",
       "      <th>length_of_stay</th>\n",
       "      <th>decile_score</th>\n",
       "    </tr>\n",
       "  </thead>\n",
       "  <tbody>\n",
       "    <tr>\n",
       "      <th>length_of_stay</th>\n",
       "      <td>1.000000</td>\n",
       "      <td>0.207478</td>\n",
       "    </tr>\n",
       "    <tr>\n",
       "      <th>decile_score</th>\n",
       "      <td>0.207478</td>\n",
       "      <td>1.000000</td>\n",
       "    </tr>\n",
       "  </tbody>\n",
       "</table>\n",
       "</div>"
      ],
      "text/plain": [
       "                length_of_stay  decile_score\n",
       "length_of_stay        1.000000      0.207478\n",
       "decile_score          0.207478      1.000000"
      ]
     },
     "execution_count": 14,
     "metadata": {},
     "output_type": "execute_result"
    }
   ],
   "source": [
    "compas_df[['length_of_stay', 'decile_score']].corr()"
   ]
  },
  {
   "cell_type": "code",
   "execution_count": 15,
   "metadata": {},
   "outputs": [
    {
     "data": {
      "text/plain": [
       "Low       3421\n",
       "Medium    1607\n",
       "High      1144\n",
       "Name: score_text, dtype: int64"
      ]
     },
     "execution_count": 15,
     "metadata": {},
     "output_type": "execute_result"
    }
   ],
   "source": [
    "compas_df['score_text'].value_counts()"
   ]
  },
  {
   "cell_type": "markdown",
   "metadata": {},
   "source": [
    "### Recidivism statistics"
   ]
  },
  {
   "cell_type": "code",
   "execution_count": 16,
   "metadata": {},
   "outputs": [
    {
     "name": "stdout",
     "output_type": "stream",
     "text": [
      "Number of recidivism cases: 2809\n",
      "percentage of recidivism cases: 0.46%\n"
     ]
    }
   ],
   "source": [
    "recid = compas_df['two_year_recid']\n",
    "print('Number of recidivism cases:', recid[recid == 1].sum())\n",
    "print('percentage of recidivism cases: %.2f%%' % (recid[recid == 1].sum() / len(recid)))"
   ]
  },
  {
   "cell_type": "code",
   "execution_count": 17,
   "metadata": {},
   "outputs": [
    {
     "data": {
      "text/plain": [
       "Text(0.01, 0.5, 'Defendents')"
      ]
     },
     "execution_count": 17,
     "metadata": {},
     "output_type": "execute_result"
    },
    {
     "data": {
      "image/png": "[encoded data removed]",
      "text/plain": [
       "<Figure size 720x360 with 2 Axes>"
      ]
     },
     "metadata": {
      "needs_background": "light"
     },
     "output_type": "display_data"
    }
   ],
   "source": [
    "race_score_df = compas_df[['race', 'decile_score']]\n",
    "race_score_df = race_score_df[(race_score_df['race'] \n",
    "                    == 'African-American') | (race_score_df['race'] == 'Caucasian')]\n",
    "fig, axes = plt.subplots(nrows=1, ncols=2, sharex=False, sharey=False, figsize=(10,5))\n",
    "race_score_df.hist(column='decile_score',by='race', ax=axes, rwidth=.7)\n",
    "\n",
    "plt.suptitle(\"Defendant's Decile Scores by race\",\n",
    "             x=0.5, y=1.05, ha='center', fontsize='xx-large')\n",
    "fig.text(0.5, 0.01, 'Decile score', ha='center')\n",
    "fig.text(0.01, 0.5, 'Defendents', va='center', rotation='vertical')"
   ]
  },
  {
   "cell_type": "code",
   "execution_count": 18,
   "metadata": {},
   "outputs": [],
   "source": [
    "compas_df['sex'] = compas_df['sex'].astype('category')\n",
    "compas_df['age_cat'] = compas_df['age_cat'].astype('category')\n",
    "compas_df['race'] = compas_df['race'].astype('category')\n",
    "compas_df['c_charge_degree'] = compas_df['c_charge_degree'].astype('category')\n",
    "compas_df['score_text'] = compas_df['score_text'].astype('category')\n",
    "compas_df['v_score_text'] = compas_df['v_score_text'].astype('category')\n",
    "cat_columns = compas_df.select_dtypes(['category']).columns\n",
    "compas_df[cat_columns] = compas_df[cat_columns].apply(lambda x: x.cat.codes)"
   ]
  },
  {
   "cell_type": "code",
   "execution_count": 19,
   "metadata": {},
   "outputs": [
    {
     "data": {
      "text/html": [
       "<div>\n",
       "<style scoped>\n",
       "    .dataframe tbody tr th:only-of-type {\n",
       "        vertical-align: middle;\n",
       "    }\n",
       "\n",
       "    .dataframe tbody tr th {\n",
       "        vertical-align: top;\n",
       "    }\n",
       "\n",
       "    .dataframe thead th {\n",
       "        text-align: right;\n",
       "    }\n",
       "</style>\n",
       "<table border=\"1\" class=\"dataframe\">\n",
       "  <thead>\n",
       "    <tr style=\"text-align: right;\">\n",
       "      <th></th>\n",
       "      <th>sex</th>\n",
       "      <th>age</th>\n",
       "      <th>age_cat</th>\n",
       "      <th>race</th>\n",
       "      <th>c_charge_degree</th>\n",
       "      <th>length_of_stay</th>\n",
       "      <th>juv_fel_count</th>\n",
       "      <th>juv_misd_count</th>\n",
       "      <th>juv_other_count</th>\n",
       "      <th>days_b_screening_arrest</th>\n",
       "      <th>priors_count</th>\n",
       "      <th>decile_score</th>\n",
       "      <th>score_text</th>\n",
       "      <th>v_decile_score</th>\n",
       "      <th>v_score_text</th>\n",
       "      <th>is_recid</th>\n",
       "      <th>two_year_recid</th>\n",
       "    </tr>\n",
       "  </thead>\n",
       "  <tbody>\n",
       "    <tr>\n",
       "      <th>0</th>\n",
       "      <td>1</td>\n",
       "      <td>69</td>\n",
       "      <td>1</td>\n",
       "      <td>5</td>\n",
       "      <td>0</td>\n",
       "      <td>0</td>\n",
       "      <td>0</td>\n",
       "      <td>0</td>\n",
       "      <td>0</td>\n",
       "      <td>-1.0</td>\n",
       "      <td>0</td>\n",
       "      <td>1</td>\n",
       "      <td>1</td>\n",
       "      <td>1</td>\n",
       "      <td>1</td>\n",
       "      <td>0</td>\n",
       "      <td>0</td>\n",
       "    </tr>\n",
       "    <tr>\n",
       "      <th>1</th>\n",
       "      <td>1</td>\n",
       "      <td>34</td>\n",
       "      <td>0</td>\n",
       "      <td>0</td>\n",
       "      <td>0</td>\n",
       "      <td>10</td>\n",
       "      <td>0</td>\n",
       "      <td>0</td>\n",
       "      <td>0</td>\n",
       "      <td>-1.0</td>\n",
       "      <td>0</td>\n",
       "      <td>3</td>\n",
       "      <td>1</td>\n",
       "      <td>1</td>\n",
       "      <td>1</td>\n",
       "      <td>1</td>\n",
       "      <td>1</td>\n",
       "    </tr>\n",
       "    <tr>\n",
       "      <th>2</th>\n",
       "      <td>1</td>\n",
       "      <td>24</td>\n",
       "      <td>2</td>\n",
       "      <td>0</td>\n",
       "      <td>0</td>\n",
       "      <td>1</td>\n",
       "      <td>0</td>\n",
       "      <td>0</td>\n",
       "      <td>1</td>\n",
       "      <td>-1.0</td>\n",
       "      <td>4</td>\n",
       "      <td>4</td>\n",
       "      <td>1</td>\n",
       "      <td>3</td>\n",
       "      <td>1</td>\n",
       "      <td>1</td>\n",
       "      <td>1</td>\n",
       "    </tr>\n",
       "    <tr>\n",
       "      <th>5</th>\n",
       "      <td>1</td>\n",
       "      <td>44</td>\n",
       "      <td>0</td>\n",
       "      <td>5</td>\n",
       "      <td>1</td>\n",
       "      <td>1</td>\n",
       "      <td>0</td>\n",
       "      <td>0</td>\n",
       "      <td>0</td>\n",
       "      <td>0.0</td>\n",
       "      <td>0</td>\n",
       "      <td>1</td>\n",
       "      <td>1</td>\n",
       "      <td>1</td>\n",
       "      <td>1</td>\n",
       "      <td>0</td>\n",
       "      <td>0</td>\n",
       "    </tr>\n",
       "    <tr>\n",
       "      <th>6</th>\n",
       "      <td>1</td>\n",
       "      <td>41</td>\n",
       "      <td>0</td>\n",
       "      <td>2</td>\n",
       "      <td>0</td>\n",
       "      <td>6</td>\n",
       "      <td>0</td>\n",
       "      <td>0</td>\n",
       "      <td>0</td>\n",
       "      <td>-1.0</td>\n",
       "      <td>14</td>\n",
       "      <td>6</td>\n",
       "      <td>2</td>\n",
       "      <td>2</td>\n",
       "      <td>1</td>\n",
       "      <td>1</td>\n",
       "      <td>1</td>\n",
       "    </tr>\n",
       "  </tbody>\n",
       "</table>\n",
       "</div>"
      ],
      "text/plain": [
       "   sex  age  age_cat  race  c_charge_degree  length_of_stay  juv_fel_count  \\\n",
       "0    1   69        1     5                0               0              0   \n",
       "1    1   34        0     0                0              10              0   \n",
       "2    1   24        2     0                0               1              0   \n",
       "5    1   44        0     5                1               1              0   \n",
       "6    1   41        0     2                0               6              0   \n",
       "\n",
       "   juv_misd_count  juv_other_count  days_b_screening_arrest  priors_count  \\\n",
       "0               0                0                     -1.0             0   \n",
       "1               0                0                     -1.0             0   \n",
       "2               0                1                     -1.0             4   \n",
       "5               0                0                      0.0             0   \n",
       "6               0                0                     -1.0            14   \n",
       "\n",
       "   decile_score  score_text  v_decile_score  v_score_text  is_recid  \\\n",
       "0             1           1               1             1         0   \n",
       "1             3           1               1             1         1   \n",
       "2             4           1               3             1         1   \n",
       "5             1           1               1             1         0   \n",
       "6             6           2               2             1         1   \n",
       "\n",
       "   two_year_recid  \n",
       "0               0  \n",
       "1               1  \n",
       "2               1  \n",
       "5               0  \n",
       "6               1  "
      ]
     },
     "execution_count": 19,
     "metadata": {},
     "output_type": "execute_result"
    }
   ],
   "source": [
    "compas_df.head()"
   ]
  },
  {
   "cell_type": "code",
   "execution_count": 20,
   "metadata": {},
   "outputs": [],
   "source": [
    "import sklearn\n",
    "from sklearn.linear_model import LogisticRegressionCV as LR\n",
    "from sklearn.metrics import log_loss\n",
    "from sklearn.preprocessing import MinMaxScaler\n",
    "from sklearn.model_selection import train_test_split"
   ]
  },
  {
   "cell_type": "code",
   "execution_count": 21,
   "metadata": {},
   "outputs": [],
   "source": [
    "def min_max_scaling(X):\n",
    "    scalar = MinMaxScaler(feature_range=(-1,1))\n",
    "    scalar_fit = scalar.fit(X)\n",
    "    dmin = scalar.data_min_\n",
    "    dmax = scalar.data_max_\n",
    "    return scalar"
   ]
  },
  {
   "cell_type": "code",
   "execution_count": 22,
   "metadata": {},
   "outputs": [
    {
     "name": "stderr",
     "output_type": "stream",
     "text": [
      "/Users/manishpandit/stanford/cs221/recidivism/.env/lib/python3.7/site-packages/sklearn/preprocessing/data.py:334: DataConversionWarning: Data with input dtype int8, int64, float64 were all converted to float64 by MinMaxScaler.\n",
      "  return self.partial_fit(X, y)\n"
     ]
    }
   ],
   "source": [
    "Xy_df = compas_df\n",
    "# prep train/dev datasets\n",
    "Xy_train, Xy_test = train_test_split(Xy_df,test_size=0.2,random_state=42)\n",
    "y_train = np.ndarray.astype(Xy_train.values[:,-1],int)\n",
    "X_train = Xy_train.drop(Xy_train.columns[[0,-1]],axis=1)\n",
    "y_test = np.ndarray.astype(Xy_test.values[:,-1],int)\n",
    "X_test = Xy_test.drop(Xy_test.columns[[0,-1]],axis=1)\n",
    "scalar = min_max_scaling(X_train)\n",
    "X_train_norm = scalar.transform(X_train)\n",
    "X_test_norm = scalar.transform(X_test)"
   ]
  },
  {
   "cell_type": "code",
   "execution_count": 23,
   "metadata": {},
   "outputs": [
    {
     "name": "stderr",
     "output_type": "stream",
     "text": [
      "/Users/manishpandit/stanford/cs221/recidivism/.env/lib/python3.7/site-packages/sklearn/model_selection/_split.py:2053: FutureWarning: You should specify a value for 'cv' instead of relying on the default value. The default value will change from 3 to 5 in version 0.22.\n",
      "  warnings.warn(CV_WARNING, FutureWarning)\n"
     ]
    },
    {
     "name": "stdout",
     "output_type": "stream",
     "text": [
      "test log-loss: 0.5912358825540546\n"
     ]
    }
   ],
   "source": [
    "# train initial model\n",
    "clf = LR(penalty='l2', class_weight='balanced').fit(X_train_norm, y_train)\n",
    "train_preds = clf.predict_proba(X_train_norm)[:,1]\n",
    "test_preds = clf.predict_proba(X_test_norm)[:,1]\n",
    "test_preds_label = clf.predict(X_test_norm)\n",
    "class_preds = test_preds >= 0.5\n",
    "train_ll = log_loss(y_train, train_preds)\n",
    "test_ll = log_loss(y_test, test_preds)\n",
    "print('test log-loss: ' + str(test_ll))"
   ]
  },
  {
   "cell_type": "code",
   "execution_count": 24,
   "metadata": {},
   "outputs": [],
   "source": [
    "# working with ai360 -- first, run on initial model (no debiasing)\n",
    "from aif360.datasets import StandardDataset\n",
    "from aif360.datasets import BinaryLabelDataset\n",
    "from aif360.metrics import ClassificationMetric"
   ]
  },
  {
   "cell_type": "code",
   "execution_count": 25,
   "metadata": {},
   "outputs": [],
   "source": [
    "def fairness_metrics(classified_metric, log=False): # prints instead of return if log=True\n",
    "    TPR = classified_metric.true_positive_rate()\n",
    "    TNR = classified_metric.true_negative_rate()\n",
    "    bal_acc = np.round(0.5*(TPR+TNR),2)\n",
    "    dip = np.round((1/classified_metric.disparate_impact() - 1)*100,2)\n",
    "    aod = np.round(classified_metric.average_odds_difference(),2)\n",
    "    spd = np.round(classified_metric.statistical_parity_difference(),2)\n",
    "    eod = np.round(classified_metric.equal_opportunity_difference(),2)\n",
    "    if log:\n",
    "        print(\"Balanced Accuracy: \" + str(bal_acc))\n",
    "        print(\"Disparate Impact (%): \" + str(dip))\n",
    "        print(\"Average Odds Difference: \" + str(aod))\n",
    "        print(\"Statistical Parity Difference: \" + str(spd))\n",
    "        print(\"Equal Opportunity Difference: \" + str(eod))\n",
    "    else:\n",
    "        return bal_acc,dip,aod,spd,eod"
   ]
  },
  {
   "cell_type": "code",
   "execution_count": 26,
   "metadata": {},
   "outputs": [],
   "source": [
    "privileged_groups = [{'sex': 1}]\n",
    "unprivileged_groups = [{'sex': 0}]\n",
    "\n",
    "comp_dataset = BinaryLabelDataset(\n",
    "    df=Xy_test, favorable_label=0, unfavorable_label = 1,\n",
    "    label_names = ['two_year_recid'], protected_attribute_names = ['sex'],\n",
    "    privileged_protected_attributes = [[0]],\n",
    "    unprivileged_protected_attributes = [[1]]\n",
    ")\n",
    "comp_dataset_pred = comp_dataset.copy()\n",
    "comp_dataset_pred.labels = test_preds_label\n",
    "comp_dataset_pred.scores = test_preds\n",
    "\n",
    "classified_metric = ClassificationMetric(\n",
    "    comp_dataset, comp_dataset_pred, unprivileged_groups = unprivileged_groups,\n",
    "    privileged_groups = privileged_groups)"
   ]
  },
  {
   "cell_type": "code",
   "execution_count": 27,
   "metadata": {},
   "outputs": [
    {
     "name": "stdout",
     "output_type": "stream",
     "text": [
      "Balanced Accuracy: 0.98\n",
      "Disparate Impact (%): -16.18\n",
      "Average Odds Difference: 0.01\n",
      "Statistical Parity Difference: 0.1\n",
      "Equal Opportunity Difference: 0.02\n"
     ]
    }
   ],
   "source": [
    "fairness_metrics(classified_metric, log=True)"
   ]
  },
  {
   "cell_type": "code",
   "execution_count": 28,
   "metadata": {},
   "outputs": [
    {
     "name": "stderr",
     "output_type": "stream",
     "text": [
      "/Users/manishpandit/stanford/cs221/recidivism/.env/lib/python3.7/site-packages/sklearn/model_selection/_split.py:2053: FutureWarning: You should specify a value for 'cv' instead of relying on the default value. The default value will change from 3 to 5 in version 0.22.\n",
      "  warnings.warn(CV_WARNING, FutureWarning)\n"
     ]
    },
    {
     "name": "stdout",
     "output_type": "stream",
     "text": [
      "test log-loss: 0.5915050174750616\n"
     ]
    }
   ],
   "source": [
    "# repeat with preprocessing\n",
    "#from aif360.algorithms.preprocessing.optim_preproc import OptimPreproc\n",
    "#from aif360.algorithms.preprocessing.optim_preproc_helpers.opt_tools import OptTools\n",
    "from aif360.algorithms.preprocessing.reweighing import Reweighing\n",
    "\n",
    "cd_train = BinaryLabelDataset(\n",
    "    df=Xy_train, favorable_label=0, unfavorable_label = 1,\n",
    "    label_names = ['two_year_recid'], protected_attribute_names = ['sex'],\n",
    "    privileged_protected_attributes = [[0]],\n",
    "    unprivileged_protected_attributes = [[1]]\n",
    ")\n",
    "cd_test = BinaryLabelDataset(\n",
    "    df=Xy_test, favorable_label=0, unfavorable_label = 1,\n",
    "    label_names = ['two_year_recid'], protected_attribute_names = ['sex'],\n",
    "    privileged_protected_attributes = [[0]],\n",
    "    unprivileged_protected_attributes = [[1]]\n",
    ")\n",
    "\n",
    "RW = Reweighing(unprivileged_groups=unprivileged_groups,\n",
    "               privileged_groups=privileged_groups)\n",
    "RW.fit(cd_train)\n",
    "Xyt_train = RW.transform(cd_train)\n",
    "Xyt_test = RW.transform(cd_test)\n",
    "\n",
    "# prep train/dev datasets\n",
    "yt_train = Xyt_train.labels.ravel()\n",
    "Xt_train = Xyt_train.features\n",
    "yt_test = Xyt_test.labels.ravel()\n",
    "Xt_test = Xyt_test.features\n",
    "scalar_fair = min_max_scaling(Xt_train)\n",
    "Xt_train_norm = scalar_fair.transform(Xt_train)\n",
    "Xt_test_norm = scalar_fair.transform(Xt_test)\n",
    "\n",
    "# train initial model\n",
    "clf = LR(penalty='l2', class_weight='balanced').fit(\n",
    "    Xt_train_norm, yt_train, sample_weight=Xyt_train.instance_weights)\n",
    "fair_train_preds = clf.predict_proba(Xt_train_norm)[:,1]\n",
    "fair_test_preds = clf.predict_proba(Xt_test_norm)[:,1]\n",
    "fair_test_preds_label = clf.predict(Xt_test_norm)\n",
    "fair_class_preds = fair_test_preds >= 0.5\n",
    "train_ll = log_loss(yt_train, fair_train_preds)\n",
    "test_ll = log_loss(yt_test, fair_test_preds)\n",
    "print('test log-loss: ' + str(test_ll))\n",
    "\n",
    "# calculate fairness metrics for rebalanced model\n",
    "fair_comp_dataset = BinaryLabelDataset(\n",
    "    df=Xy_test, favorable_label=0, unfavorable_label = 1,\n",
    "    label_names = ['two_year_recid'], protected_attribute_names = ['sex'],\n",
    "    privileged_protected_attributes = [[0]],\n",
    "    unprivileged_protected_attributes = [[1]]\n",
    ")\n",
    "fair_comp_dataset_pred = fair_comp_dataset.copy()\n",
    "fair_comp_dataset_pred.labels = fair_test_preds_label\n",
    "fair_comp_dataset_pred.scores = fair_test_preds\n",
    "\n",
    "fair_classified_metric = ClassificationMetric(\n",
    "    fair_comp_dataset, fair_comp_dataset_pred, unprivileged_groups = unprivileged_groups,\n",
    "    privileged_groups = privileged_groups)"
   ]
  },
  {
   "cell_type": "code",
   "execution_count": 29,
   "metadata": {},
   "outputs": [
    {
     "name": "stdout",
     "output_type": "stream",
     "text": [
      "Balanced Accuracy: 0.98\n",
      "Disparate Impact (%): -16.18\n",
      "Average Odds Difference: 0.01\n",
      "Statistical Parity Difference: 0.1\n",
      "Equal Opportunity Difference: 0.02\n"
     ]
    }
   ],
   "source": [
    "fairness_metrics(fair_classified_metric, log=True)"
   ]
  },
  {
   "cell_type": "code",
   "execution_count": null,
   "metadata": {},
   "outputs": [],
   "source": []
  }
 ],
 "metadata": {
  "kernelspec": {
   "display_name": "Python 3",
   "language": "python",
   "name": "python3"
  },
  "language_info": {
   "codemirror_mode": {
    "name": "ipython",
    "version": 3
   },
   "file_extension": ".py",
   "mimetype": "text/x-python",
   "name": "python",
   "nbconvert_exporter": "python",
   "pygments_lexer": "ipython3",
   "version": "3.7.2"
  },
  "toc": {
   "base_numbering": 1,
   "nav_menu": {},
   "number_sections": true,
   "sideBar": true,
   "skip_h1_title": false,
   "title_cell": "Table of Contents",
   "title_sidebar": "Contents",
   "toc_cell": false,
   "toc_position": {},
   "toc_section_display": true,
   "toc_window_display": false
  }
 },
 "nbformat": 4,
 "nbformat_minor": 2
}
